{
 "cells": [
  {
   "cell_type": "code",
   "execution_count": 2,
   "metadata": {},
   "outputs": [],
   "source": [
    "import requests"
   ]
  },
  {
   "cell_type": "markdown",
   "metadata": {},
   "source": [
    "## robots.txt\n",
    "\n",
    "https://www.lagou.com/robots.txt\n",
    "\n",
    ">User-agent: Jobuispider\n",
    ">Disallow:  /\n",
    ">\n",
    ">User-agent: *\n",
    "\n",
    ">Disallow: /resume/\n",
    "\n",
    ">Disallow: /nearBy/\n",
    "\n",
    ">Disallow: /ologin/\n",
    "\n",
    ">Disallow: /jobs/list_*\n",
    "\n",
    ">Disallow: /one.lagou.com\n",
    "\n",
    ">Disallow: /ns3.lagou.com\n",
    "\n",
    ">Disallow: /hr.lagou.com\n",
    "\n",
    ">Disallow: /two.lagou.com\n",
    "\n",
    ">Disallow: /t/temp1/\n",
    "\n",
    ">Disallow: /center/preview.html\n",
    "\n",
    ">Disallow: /center/previewApp.html\n",
    "\n",
    ">Disallow: /*?utm_source=*\n",
    "\n",
    ">Allow: /gongsi/interviewExperiences.html?companyId=*\n",
    "\n",
    ">Disallow: /*?*\n"
   ]
  },
  {
   "cell_type": "markdown",
   "metadata": {},
   "source": [
    "## 搜索"
   ]
  },
  {
   "cell_type": "code",
   "execution_count": 56,
   "metadata": {
    "scrolled": false
   },
   "outputs": [],
   "source": [
    "#url = 'https://www.lagou.com/jobs/positionAjax.json?px=default&city=%E5%8C%97%E4%BA%AC&needAddtionalResult=false&isSchoolJob=0'\n",
    "url = 'https://www.lagou.com/jobs/positionAjax.json?px=default&city=全国&needAddtionalResult=false&isSchoolJob=0'\n",
    "header = {}\n",
    "with open('/home/gk07/Instances/lagou/lagouSpider/head.txt') as f:\n",
    "    for line in f:\n",
    "        l = [x.strip() for x in line.split(':',1)]\n",
    "        header[l[0]] = l[1]\n",
    "\n",
    "datas = {'first':'true',\n",
    "         'pn':'1',\n",
    "         'kd':'python'\n",
    "        }\n",
    "\n",
    "session = requests.session()\n",
    "\n",
    "res = session.post(url,headers=header,data=datas)\n"
   ]
  },
  {
   "cell_type": "code",
   "execution_count": 57,
   "metadata": {},
   "outputs": [
    {
     "data": {
      "text/plain": [
       "dict_keys(['success', 'requestId', 'resubmitToken', 'msg', 'content', 'code'])"
      ]
     },
     "execution_count": 57,
     "metadata": {},
     "output_type": "execute_result"
    }
   ],
   "source": [
    "res.json().keys()"
   ]
  },
  {
   "cell_type": "code",
   "execution_count": 58,
   "metadata": {},
   "outputs": [
    {
     "data": {
      "text/plain": [
       "dict_keys(['pageNo', 'pageSize', 'hrInfoMap', 'positionResult'])"
      ]
     },
     "execution_count": 58,
     "metadata": {},
     "output_type": "execute_result"
    }
   ],
   "source": [
    "res.json()['content'].keys()"
   ]
  },
  {
   "cell_type": "code",
   "execution_count": 59,
   "metadata": {},
   "outputs": [
    {
     "data": {
      "text/plain": [
       "15"
      ]
     },
     "execution_count": 59,
     "metadata": {},
     "output_type": "execute_result"
    }
   ],
   "source": [
    "res.json()['content']['pageSize']"
   ]
  },
  {
   "cell_type": "code",
   "execution_count": 60,
   "metadata": {},
   "outputs": [
    {
     "data": {
      "text/plain": [
       "1"
      ]
     },
     "execution_count": 60,
     "metadata": {},
     "output_type": "execute_result"
    }
   ],
   "source": [
    "res.json()['content']['pageNo']"
   ]
  },
  {
   "cell_type": "code",
   "execution_count": 204,
   "metadata": {},
   "outputs": [],
   "source": [
    "## "
   ]
  },
  {
   "cell_type": "code",
   "execution_count": 206,
   "metadata": {},
   "outputs": [
    {
     "data": {
      "text/plain": [
       "1414"
      ]
     },
     "execution_count": 206,
     "metadata": {},
     "output_type": "execute_result"
    }
   ],
   "source": [
    "res.json()['content']['positionResult']['totalCount']"
   ]
  },
  {
   "cell_type": "code",
   "execution_count": 150,
   "metadata": {},
   "outputs": [
    {
     "data": {
      "text/plain": [
       "dict_keys(['totalCount', 'hotLabels', 'locationInfo', 'queryAnalysisInfo', 'strategyProperty', 'hiTags', 'resultSize', 'result'])"
      ]
     },
     "execution_count": 150,
     "metadata": {},
     "output_type": "execute_result"
    }
   ],
   "source": [
    "res.json()['content']['positionResult'].keys()"
   ]
  },
  {
   "cell_type": "code",
   "execution_count": 151,
   "metadata": {},
   "outputs": [
    {
     "data": {
      "text/plain": [
       "15"
      ]
     },
     "execution_count": 151,
     "metadata": {},
     "output_type": "execute_result"
    }
   ],
   "source": [
    "len(res.json()['content']['positionResult']['result'])"
   ]
  },
  {
   "cell_type": "markdown",
   "metadata": {},
   "source": [
    "## 搜索结果\n",
    "\n",
    "- 浏览器访问拉勾每页返回15条招聘信息，最多显示30页，也就是说最多只能获取450条搜索结果\n",
    "- 爬虫搜索python关键字且城市设置为全国，返回的json数据中res.json()['content']['positionResult']['totalCount']显示有1388个结果。按每页15条计算，一共有93页。\n",
    "- 测试证明爬虫可以提取30页以后的数据"
   ]
  },
  {
   "cell_type": "code",
   "execution_count": 194,
   "metadata": {},
   "outputs": [],
   "source": [
    "url = 'https://www.lagou.com/jobs/positionAjax.json?px=default&city=全国&needAddtionalResult=false&isSchoolJob=0'\n",
    "header = {}\n",
    "with open('/home/gk07/Instances/lagou/lagouSpider/head.txt') as f:\n",
    "    for line in f:\n",
    "        l = [x.strip() for x in line.split(':',1)]\n",
    "        header[l[0]] = l[1]\n",
    "\n",
    "datas = {'first':'false',\n",
    "         'pn':'7',\n",
    "         'kd':'python'}\n",
    "\n",
    "session = requests.session()\n",
    "\n",
    "res = session.post(url,headers=header,data=datas)\n",
    "\n",
    "#res.json()"
   ]
  },
  {
   "cell_type": "code",
   "execution_count": 195,
   "metadata": {},
   "outputs": [
    {
     "data": {
      "text/plain": [
       "1416"
      ]
     },
     "execution_count": 195,
     "metadata": {},
     "output_type": "execute_result"
    }
   ],
   "source": [
    "res.json()['content']['positionResult']['totalCount']"
   ]
  },
  {
   "cell_type": "code",
   "execution_count": 192,
   "metadata": {},
   "outputs": [
    {
     "ename": "KeyError",
     "evalue": "'content'",
     "output_type": "error",
     "traceback": [
      "\u001b[0;31m---------------------------------------------------------------------------\u001b[0m",
      "\u001b[0;31mKeyError\u001b[0m                                  Traceback (most recent call last)",
      "\u001b[0;32m<ipython-input-192-17d4f14b3af3>\u001b[0m in \u001b[0;36m<module>\u001b[0;34m()\u001b[0m\n\u001b[0;32m----> 1\u001b[0;31m \u001b[0mlen\u001b[0m\u001b[0;34m(\u001b[0m\u001b[0mres\u001b[0m\u001b[0;34m.\u001b[0m\u001b[0mjson\u001b[0m\u001b[0;34m(\u001b[0m\u001b[0;34m)\u001b[0m\u001b[0;34m[\u001b[0m\u001b[0;34m'content'\u001b[0m\u001b[0;34m]\u001b[0m\u001b[0;34m[\u001b[0m\u001b[0;34m'positionResult'\u001b[0m\u001b[0;34m]\u001b[0m\u001b[0;34m[\u001b[0m\u001b[0;34m'result'\u001b[0m\u001b[0;34m]\u001b[0m\u001b[0;34m)\u001b[0m\u001b[0;34m\u001b[0m\u001b[0m\n\u001b[0m",
      "\u001b[0;31mKeyError\u001b[0m: 'content'"
     ]
    }
   ],
   "source": [
    "len(res.json()['content']['positionResult']['result'])"
   ]
  },
  {
   "cell_type": "code",
   "execution_count": 193,
   "metadata": {},
   "outputs": [
    {
     "ename": "KeyError",
     "evalue": "'content'",
     "output_type": "error",
     "traceback": [
      "\u001b[0;31m---------------------------------------------------------------------------\u001b[0m",
      "\u001b[0;31mKeyError\u001b[0m                                  Traceback (most recent call last)",
      "\u001b[0;32m<ipython-input-193-3983cc5f4ff9>\u001b[0m in \u001b[0;36m<module>\u001b[0;34m()\u001b[0m\n\u001b[0;32m----> 1\u001b[0;31m \u001b[0mres\u001b[0m\u001b[0;34m.\u001b[0m\u001b[0mjson\u001b[0m\u001b[0;34m(\u001b[0m\u001b[0;34m)\u001b[0m\u001b[0;34m[\u001b[0m\u001b[0;34m'content'\u001b[0m\u001b[0;34m]\u001b[0m\u001b[0;34m[\u001b[0m\u001b[0;34m'positionResult'\u001b[0m\u001b[0;34m]\u001b[0m\u001b[0;34m[\u001b[0m\u001b[0;34m'result'\u001b[0m\u001b[0;34m]\u001b[0m\u001b[0;34m[\u001b[0m\u001b[0;36m0\u001b[0m\u001b[0;34m]\u001b[0m\u001b[0;34m\u001b[0m\u001b[0m\n\u001b[0m",
      "\u001b[0;31mKeyError\u001b[0m: 'content'"
     ]
    }
   ],
   "source": [
    "res.json()['content']['positionResult']['result'][0]"
   ]
  },
  {
   "cell_type": "code",
   "execution_count": null,
   "metadata": {},
   "outputs": [],
   "source": []
  },
  {
   "cell_type": "code",
   "execution_count": null,
   "metadata": {},
   "outputs": [],
   "source": []
  }
 ],
 "metadata": {
  "kernelspec": {
   "display_name": "Python 3",
   "language": "python",
   "name": "python3"
  },
  "language_info": {
   "codemirror_mode": {
    "name": "ipython",
    "version": 3
   },
   "file_extension": ".py",
   "mimetype": "text/x-python",
   "name": "python",
   "nbconvert_exporter": "python",
   "pygments_lexer": "ipython3",
   "version": "3.6.4"
  }
 },
 "nbformat": 4,
 "nbformat_minor": 2
}
